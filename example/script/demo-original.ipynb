{
 "cells": [
  {
   "cell_type": "code",
   "execution_count": 1,
   "metadata": {},
   "outputs": [],
   "source": [
    "%load_ext autoreload"
   ]
  },
  {
   "cell_type": "code",
   "execution_count": 2,
   "metadata": {},
   "outputs": [],
   "source": [
    "%autoreload 2"
   ]
  },
  {
   "cell_type": "code",
   "execution_count": 3,
   "metadata": {},
   "outputs": [
    {
     "name": "stderr",
     "output_type": "stream",
     "text": [
      "/home/users/nlaabid/miniconda3/envs/scphere2/lib/python3.6/site-packages/tensorflow/python/framework/dtypes.py:516: FutureWarning: Passing (type, 1) or '1type' as a synonym of type is deprecated; in a future version of numpy, it will be understood as (type, (1,)) / '(1,)type'.\n",
      "  _np_qint8 = np.dtype([(\"qint8\", np.int8, 1)])\n",
      "/home/users/nlaabid/miniconda3/envs/scphere2/lib/python3.6/site-packages/tensorflow/python/framework/dtypes.py:517: FutureWarning: Passing (type, 1) or '1type' as a synonym of type is deprecated; in a future version of numpy, it will be understood as (type, (1,)) / '(1,)type'.\n",
      "  _np_quint8 = np.dtype([(\"quint8\", np.uint8, 1)])\n",
      "/home/users/nlaabid/miniconda3/envs/scphere2/lib/python3.6/site-packages/tensorflow/python/framework/dtypes.py:518: FutureWarning: Passing (type, 1) or '1type' as a synonym of type is deprecated; in a future version of numpy, it will be understood as (type, (1,)) / '(1,)type'.\n",
      "  _np_qint16 = np.dtype([(\"qint16\", np.int16, 1)])\n",
      "/home/users/nlaabid/miniconda3/envs/scphere2/lib/python3.6/site-packages/tensorflow/python/framework/dtypes.py:519: FutureWarning: Passing (type, 1) or '1type' as a synonym of type is deprecated; in a future version of numpy, it will be understood as (type, (1,)) / '(1,)type'.\n",
      "  _np_quint16 = np.dtype([(\"quint16\", np.uint16, 1)])\n",
      "/home/users/nlaabid/miniconda3/envs/scphere2/lib/python3.6/site-packages/tensorflow/python/framework/dtypes.py:520: FutureWarning: Passing (type, 1) or '1type' as a synonym of type is deprecated; in a future version of numpy, it will be understood as (type, (1,)) / '(1,)type'.\n",
      "  _np_qint32 = np.dtype([(\"qint32\", np.int32, 1)])\n",
      "/home/users/nlaabid/miniconda3/envs/scphere2/lib/python3.6/site-packages/tensorflow/python/framework/dtypes.py:525: FutureWarning: Passing (type, 1) or '1type' as a synonym of type is deprecated; in a future version of numpy, it will be understood as (type, (1,)) / '(1,)type'.\n",
      "  np_resource = np.dtype([(\"resource\", np.ubyte, 1)])\n",
      "/home/users/nlaabid/miniconda3/envs/scphere2/lib/python3.6/site-packages/tensorboard/compat/tensorflow_stub/dtypes.py:541: FutureWarning: Passing (type, 1) or '1type' as a synonym of type is deprecated; in a future version of numpy, it will be understood as (type, (1,)) / '(1,)type'.\n",
      "  _np_qint8 = np.dtype([(\"qint8\", np.int8, 1)])\n",
      "/home/users/nlaabid/miniconda3/envs/scphere2/lib/python3.6/site-packages/tensorboard/compat/tensorflow_stub/dtypes.py:542: FutureWarning: Passing (type, 1) or '1type' as a synonym of type is deprecated; in a future version of numpy, it will be understood as (type, (1,)) / '(1,)type'.\n",
      "  _np_quint8 = np.dtype([(\"quint8\", np.uint8, 1)])\n",
      "/home/users/nlaabid/miniconda3/envs/scphere2/lib/python3.6/site-packages/tensorboard/compat/tensorflow_stub/dtypes.py:543: FutureWarning: Passing (type, 1) or '1type' as a synonym of type is deprecated; in a future version of numpy, it will be understood as (type, (1,)) / '(1,)type'.\n",
      "  _np_qint16 = np.dtype([(\"qint16\", np.int16, 1)])\n",
      "/home/users/nlaabid/miniconda3/envs/scphere2/lib/python3.6/site-packages/tensorboard/compat/tensorflow_stub/dtypes.py:544: FutureWarning: Passing (type, 1) or '1type' as a synonym of type is deprecated; in a future version of numpy, it will be understood as (type, (1,)) / '(1,)type'.\n",
      "  _np_quint16 = np.dtype([(\"quint16\", np.uint16, 1)])\n",
      "/home/users/nlaabid/miniconda3/envs/scphere2/lib/python3.6/site-packages/tensorboard/compat/tensorflow_stub/dtypes.py:545: FutureWarning: Passing (type, 1) or '1type' as a synonym of type is deprecated; in a future version of numpy, it will be understood as (type, (1,)) / '(1,)type'.\n",
      "  _np_qint32 = np.dtype([(\"qint32\", np.int32, 1)])\n",
      "/home/users/nlaabid/miniconda3/envs/scphere2/lib/python3.6/site-packages/tensorboard/compat/tensorflow_stub/dtypes.py:550: FutureWarning: Passing (type, 1) or '1type' as a synonym of type is deprecated; in a future version of numpy, it will be understood as (type, (1,)) / '(1,)type'.\n",
      "  np_resource = np.dtype([(\"resource\", np.ubyte, 1)])\n"
     ]
    }
   ],
   "source": [
    "from scphere.util.util import read_mtx\n",
    "import numpy as np\n",
    "from scphere.model.vae import SCPHERE\n",
    "from scphere.util.trainer import Trainer"
   ]
  },
  {
   "cell_type": "code",
   "execution_count": 4,
   "metadata": {},
   "outputs": [],
   "source": [
    "data_dir = '../data/'\n",
    "mtx = data_dir + 'cd14_monocyte_erythroid.mtx'\n",
    "x = read_mtx(mtx)\n",
    "x = x.transpose().todense()"
   ]
  },
  {
   "cell_type": "code",
   "execution_count": 5,
   "metadata": {},
   "outputs": [
    {
     "data": {
      "text/plain": [
       "(2303, 2000)"
      ]
     },
     "execution_count": 5,
     "metadata": {},
     "output_type": "execute_result"
    }
   ],
   "source": [
    "x.shape"
   ]
  },
  {
   "cell_type": "code",
   "execution_count": 6,
   "metadata": {},
   "outputs": [],
   "source": [
    "batch = np.zeros(x.shape[0]) * -1"
   ]
  },
  {
   "cell_type": "code",
   "execution_count": 7,
   "metadata": {},
   "outputs": [
    {
     "name": "stdout",
     "output_type": "stream",
     "text": [
      "WARNING:tensorflow:\n",
      "The TensorFlow contrib module will not be included in TensorFlow 2.0.\n",
      "For more information, please see:\n",
      "  * https://github.com/tensorflow/community/blob/master/rfcs/20180907-contrib-sunset.md\n",
      "  * https://github.com/tensorflow/addons\n",
      "  * https://github.com/tensorflow/io (for I/O related ops)\n",
      "If you depend on functionality not listed there, please file an issue.\n",
      "\n"
     ]
    },
    {
     "name": "stderr",
     "output_type": "stream",
     "text": [
      "2022-02-16 10:59:03,284: WARNING: \n",
      "The TensorFlow contrib module will not be included in TensorFlow 2.0.\n",
      "For more information, please see:\n",
      "  * https://github.com/tensorflow/community/blob/master/rfcs/20180907-contrib-sunset.md\n",
      "  * https://github.com/tensorflow/addons\n",
      "  * https://github.com/tensorflow/io (for I/O related ops)\n",
      "If you depend on functionality not listed there, please file an issue.\n",
      "\n"
     ]
    },
    {
     "name": "stdout",
     "output_type": "stream",
     "text": [
      "WARNING:tensorflow:From /home/users/nlaabid/miniconda3/envs/scphere2/lib/python3.6/site-packages/tensorflow/python/ops/init_ops.py:1251: calling VarianceScaling.__init__ (from tensorflow.python.ops.init_ops) with dtype is deprecated and will be removed in a future version.\n",
      "Instructions for updating:\n",
      "Call initializer instance with the dtype argument instead of passing it to the constructor\n"
     ]
    },
    {
     "name": "stderr",
     "output_type": "stream",
     "text": [
      "2022-02-16 10:59:03,305: WARNING: From /home/users/nlaabid/miniconda3/envs/scphere2/lib/python3.6/site-packages/tensorflow/python/ops/init_ops.py:1251: calling VarianceScaling.__init__ (from tensorflow.python.ops.init_ops) with dtype is deprecated and will be removed in a future version.\n",
      "Instructions for updating:\n",
      "Call initializer instance with the dtype argument instead of passing it to the constructor\n"
     ]
    },
    {
     "name": "stdout",
     "output_type": "stream",
     "text": [
      "WARNING:tensorflow:From /home/users/nlaabid/miniconda3/envs/scphere2/lib/python3.6/site-packages/tensorflow/python/ops/math_ops.py:2403: add_dispatch_support.<locals>.wrapper (from tensorflow.python.ops.array_ops) is deprecated and will be removed in a future version.\n",
      "Instructions for updating:\n",
      "Use tf.where in 2.0, which has the same broadcast rule as np.where\n"
     ]
    },
    {
     "name": "stderr",
     "output_type": "stream",
     "text": [
      "2022-02-16 10:59:03,552: WARNING: From /home/users/nlaabid/miniconda3/envs/scphere2/lib/python3.6/site-packages/tensorflow/python/ops/math_ops.py:2403: add_dispatch_support.<locals>.wrapper (from tensorflow.python.ops.array_ops) is deprecated and will be removed in a future version.\n",
      "Instructions for updating:\n",
      "Use tf.where in 2.0, which has the same broadcast rule as np.where\n"
     ]
    },
    {
     "name": "stdout",
     "output_type": "stream",
     "text": [
      "WARNING:tensorflow:From /home/users/nlaabid/miniconda3/envs/scphere2/lib/python3.6/site-packages/scPhere-0.1.0-py3.6.egg/scphere/ops/ive.py:23: py_func (from tensorflow.python.ops.script_ops) is deprecated and will be removed in a future version.\n",
      "Instructions for updating:\n",
      "tf.py_func is deprecated in TF V2. Instead, there are two\n",
      "    options available in V2.\n",
      "    - tf.py_function takes a python function which manipulates tf eager\n",
      "    tensors instead of numpy arrays. It's easy to convert a tf eager tensor to\n",
      "    an ndarray (just call tensor.numpy()) but having access to eager tensors\n",
      "    means `tf.py_function`s can use accelerators such as GPUs as well as\n",
      "    being differentiable using a gradient tape.\n",
      "    - tf.numpy_function maintains the semantics of the deprecated tf.py_func\n",
      "    (it is not differentiable, and manipulates numpy arrays). It drops the\n",
      "    stateful argument making all functions stateful.\n",
      "    \n"
     ]
    },
    {
     "name": "stderr",
     "output_type": "stream",
     "text": [
      "2022-02-16 10:59:04,249: WARNING: From /home/users/nlaabid/miniconda3/envs/scphere2/lib/python3.6/site-packages/scPhere-0.1.0-py3.6.egg/scphere/ops/ive.py:23: py_func (from tensorflow.python.ops.script_ops) is deprecated and will be removed in a future version.\n",
      "Instructions for updating:\n",
      "tf.py_func is deprecated in TF V2. Instead, there are two\n",
      "    options available in V2.\n",
      "    - tf.py_function takes a python function which manipulates tf eager\n",
      "    tensors instead of numpy arrays. It's easy to convert a tf eager tensor to\n",
      "    an ndarray (just call tensor.numpy()) but having access to eager tensors\n",
      "    means `tf.py_function`s can use accelerators such as GPUs as well as\n",
      "    being differentiable using a gradient tape.\n",
      "    - tf.numpy_function maintains the semantics of the deprecated tf.py_func\n",
      "    (it is not differentiable, and manipulates numpy arrays). It drops the\n",
      "    stateful argument making all functions stateful.\n",
      "    \n"
     ]
    }
   ],
   "source": [
    "model = SCPHERE(n_gene=x.shape[1], n_batch=0, batch_invariant=False,\n",
    "                z_dim=2, latent_dist='vmf',\n",
    "                observation_dist='nb', seed=0)"
   ]
  },
  {
   "cell_type": "code",
   "execution_count": 8,
   "metadata": {},
   "outputs": [
    {
     "name": "stdout",
     "output_type": "stream",
     "text": [
      "0 / 4250 {'Log-likelihood': -960.3009, 'ELBO': -960.6889, 'KL': 0.38801673}\n",
      "50 / 4250 {'Log-likelihood': -491.42255, 'ELBO': -493.22852, 'KL': 1.8059609}\n",
      "100 / 4250 {'Log-likelihood': -430.4061, 'ELBO': -432.5738, 'KL': 2.1676967}\n",
      "150 / 4250 {'Log-likelihood': -422.293, 'ELBO': -424.532, 'KL': 2.239008}\n",
      "200 / 4250 {'Log-likelihood': -407.1623, 'ELBO': -409.50986, 'KL': 2.3475757}\n",
      "250 / 4250 {'Log-likelihood': -409.00778, 'ELBO': -411.4112, 'KL': 2.403399}\n",
      "300 / 4250 {'Log-likelihood': -415.6094, 'ELBO': -418.07315, 'KL': 2.4637585}\n",
      "350 / 4250 {'Log-likelihood': -397.5811, 'ELBO': -400.1039, 'KL': 2.522837}\n",
      "400 / 4250 {'Log-likelihood': -401.94434, 'ELBO': -404.5406, 'KL': 2.5962427}\n",
      "450 / 4250 {'Log-likelihood': -393.61246, 'ELBO': -396.32297, 'KL': 2.7105248}\n",
      "500 / 4250 {'Log-likelihood': -416.88226, 'ELBO': -419.72632, 'KL': 2.8440576}\n",
      "550 / 4250 {'Log-likelihood': -412.23157, 'ELBO': -415.23102, 'KL': 2.999458}\n",
      "600 / 4250 {'Log-likelihood': -418.12698, 'ELBO': -421.24545, 'KL': 3.1184747}\n",
      "650 / 4250 {'Log-likelihood': -394.5163, 'ELBO': -397.7296, 'KL': 3.2133255}\n",
      "700 / 4250 {'Log-likelihood': -404.2837, 'ELBO': -407.57507, 'KL': 3.291396}\n",
      "750 / 4250 {'Log-likelihood': -441.37848, 'ELBO': -444.74222, 'KL': 3.3637462}\n",
      "800 / 4250 {'Log-likelihood': -390.32312, 'ELBO': -393.73087, 'KL': 3.4077504}\n",
      "850 / 4250 {'Log-likelihood': -405.2928, 'ELBO': -408.7295, 'KL': 3.4366965}\n",
      "900 / 4250 {'Log-likelihood': -417.925, 'ELBO': -421.41437, 'KL': 3.4893916}\n",
      "950 / 4250 {'Log-likelihood': -397.2384, 'ELBO': -400.7625, 'KL': 3.5240936}\n",
      "1000 / 4250 {'Log-likelihood': -398.48438, 'ELBO': -402.03806, 'KL': 3.553687}\n",
      "1050 / 4250 {'Log-likelihood': -392.21262, 'ELBO': -395.78708, 'KL': 3.5744603}\n",
      "1100 / 4250 {'Log-likelihood': -414.47894, 'ELBO': -418.06885, 'KL': 3.5899}\n",
      "1150 / 4250 {'Log-likelihood': -373.06528, 'ELBO': -376.65692, 'KL': 3.5916452}\n",
      "1200 / 4250 {'Log-likelihood': -394.79416, 'ELBO': -398.41638, 'KL': 3.6222186}\n",
      "1250 / 4250 {'Log-likelihood': -415.5976, 'ELBO': -419.2371, 'KL': 3.6395059}\n",
      "1300 / 4250 {'Log-likelihood': -397.08078, 'ELBO': -400.72748, 'KL': 3.6466904}\n",
      "1350 / 4250 {'Log-likelihood': -402.2081, 'ELBO': -405.8796, 'KL': 3.6715188}\n",
      "1400 / 4250 {'Log-likelihood': -425.30322, 'ELBO': -428.9903, 'KL': 3.6870878}\n",
      "1450 / 4250 {'Log-likelihood': -388.7174, 'ELBO': -392.41492, 'KL': 3.6975167}\n",
      "1500 / 4250 {'Log-likelihood': -397.71918, 'ELBO': -401.4316, 'KL': 3.7124228}\n",
      "1550 / 4250 {'Log-likelihood': -408.6715, 'ELBO': -412.38934, 'KL': 3.7178378}\n",
      "1600 / 4250 {'Log-likelihood': -389.5542, 'ELBO': -393.27332, 'KL': 3.71913}\n",
      "1650 / 4250 {'Log-likelihood': -391.68335, 'ELBO': -395.40613, 'KL': 3.7227902}\n",
      "1700 / 4250 {'Log-likelihood': -412.70554, 'ELBO': -416.4423, 'KL': 3.7367563}\n",
      "1750 / 4250 {'Log-likelihood': -376.81952, 'ELBO': -380.5459, 'KL': 3.7263741}\n",
      "1800 / 4250 {'Log-likelihood': -390.9329, 'ELBO': -394.65097, 'KL': 3.7180834}\n",
      "1850 / 4250 {'Log-likelihood': -399.05902, 'ELBO': -402.78696, 'KL': 3.7279215}\n",
      "1900 / 4250 {'Log-likelihood': -414.3978, 'ELBO': -418.1264, 'KL': 3.7286124}\n",
      "1950 / 4250 {'Log-likelihood': -416.42453, 'ELBO': -420.16016, 'KL': 3.7356305}\n",
      "2000 / 4250 {'Log-likelihood': -398.42145, 'ELBO': -402.14047, 'KL': 3.7190347}\n",
      "2050 / 4250 {'Log-likelihood': -416.44907, 'ELBO': -420.1647, 'KL': 3.7156372}\n",
      "2100 / 4250 {'Log-likelihood': -402.40176, 'ELBO': -406.1285, 'KL': 3.7267337}\n",
      "2150 / 4250 {'Log-likelihood': -396.54016, 'ELBO': -400.25677, 'KL': 3.716615}\n",
      "2200 / 4250 {'Log-likelihood': -402.61908, 'ELBO': -406.36804, 'KL': 3.7489738}\n",
      "2250 / 4250 {'Log-likelihood': -404.36133, 'ELBO': -408.10007, 'KL': 3.7387462}\n",
      "2300 / 4250 {'Log-likelihood': -404.3634, 'ELBO': -408.11975, 'KL': 3.7563386}\n",
      "2350 / 4250 {'Log-likelihood': -395.7094, 'ELBO': -399.46262, 'KL': 3.7532184}\n",
      "2400 / 4250 {'Log-likelihood': -373.9143, 'ELBO': -377.6561, 'KL': 3.7417881}\n",
      "2450 / 4250 {'Log-likelihood': -400.67664, 'ELBO': -404.45068, 'KL': 3.7740502}\n",
      "2500 / 4250 {'Log-likelihood': -386.80994, 'ELBO': -390.56375, 'KL': 3.7538211}\n",
      "2550 / 4250 {'Log-likelihood': -391.48236, 'ELBO': -395.23593, 'KL': 3.7535605}\n",
      "2600 / 4250 {'Log-likelihood': -405.53723, 'ELBO': -409.29727, 'KL': 3.760037}\n",
      "2650 / 4250 {'Log-likelihood': -421.9589, 'ELBO': -425.74384, 'KL': 3.7849414}\n",
      "2700 / 4250 {'Log-likelihood': -383.48267, 'ELBO': -387.24374, 'KL': 3.7610872}\n",
      "2750 / 4250 {'Log-likelihood': -392.84985, 'ELBO': -396.59286, 'KL': 3.7430263}\n",
      "2800 / 4250 {'Log-likelihood': -380.48926, 'ELBO': -384.23184, 'KL': 3.7425818}\n",
      "2850 / 4250 {'Log-likelihood': -386.06262, 'ELBO': -389.81763, 'KL': 3.7550192}\n",
      "2900 / 4250 {'Log-likelihood': -404.91614, 'ELBO': -408.67526, 'KL': 3.759137}\n",
      "2950 / 4250 {'Log-likelihood': -393.46863, 'ELBO': -397.20572, 'KL': 3.7370915}\n",
      "3000 / 4250 {'Log-likelihood': -386.4164, 'ELBO': -390.1567, 'KL': 3.7403042}\n",
      "3050 / 4250 {'Log-likelihood': -381.84674, 'ELBO': -385.56686, 'KL': 3.7201324}\n",
      "3100 / 4250 {'Log-likelihood': -385.08655, 'ELBO': -388.80786, 'KL': 3.7213173}\n",
      "3150 / 4250 {'Log-likelihood': -388.99026, 'ELBO': -392.71948, 'KL': 3.7292202}\n",
      "3200 / 4250 {'Log-likelihood': -394.96198, 'ELBO': -398.70596, 'KL': 3.743991}\n",
      "3250 / 4250 {'Log-likelihood': -385.90613, 'ELBO': -389.63882, 'KL': 3.7327}\n",
      "3300 / 4250 {'Log-likelihood': -396.20062, 'ELBO': -399.9454, 'KL': 3.7447934}\n",
      "3350 / 4250 {'Log-likelihood': -400.90057, 'ELBO': -404.67404, 'KL': 3.7734594}\n",
      "3400 / 4250 {'Log-likelihood': -415.76215, 'ELBO': -419.52264, 'KL': 3.760489}\n",
      "3450 / 4250 {'Log-likelihood': -413.24628, 'ELBO': -416.99875, 'KL': 3.7524679}\n",
      "3500 / 4250 {'Log-likelihood': -401.89984, 'ELBO': -405.66083, 'KL': 3.7610004}\n",
      "3550 / 4250 {'Log-likelihood': -412.6167, 'ELBO': -416.3702, 'KL': 3.753523}\n",
      "3600 / 4250 {'Log-likelihood': -386.02887, 'ELBO': -389.75992, 'KL': 3.7310455}\n",
      "3650 / 4250 {'Log-likelihood': -396.96262, 'ELBO': -400.71506, 'KL': 3.7524319}\n",
      "3700 / 4250 {'Log-likelihood': -411.1656, 'ELBO': -414.9352, 'KL': 3.7696176}\n",
      "3750 / 4250 {'Log-likelihood': -398.53668, 'ELBO': -402.28644, 'KL': 3.7497668}\n",
      "3800 / 4250 {'Log-likelihood': -382.80457, 'ELBO': -386.53812, 'KL': 3.73356}\n",
      "3850 / 4250 {'Log-likelihood': -402.01172, 'ELBO': -405.7632, 'KL': 3.7515094}\n",
      "3900 / 4250 {'Log-likelihood': -406.35107, 'ELBO': -410.07358, 'KL': 3.7224984}\n",
      "3950 / 4250 {'Log-likelihood': -390.22568, 'ELBO': -393.96472, 'KL': 3.7390568}\n",
      "4000 / 4250 {'Log-likelihood': -414.23456, 'ELBO': -417.9934, 'KL': 3.7588453}\n",
      "4050 / 4250 {'Log-likelihood': -397.0822, 'ELBO': -400.8339, 'KL': 3.7516637}\n",
      "4100 / 4250 {'Log-likelihood': -409.675, 'ELBO': -413.42264, 'KL': 3.747648}\n",
      "4150 / 4250 {'Log-likelihood': -388.81897, 'ELBO': -392.53375, 'KL': 3.71478}\n",
      "4200 / 4250 {'Log-likelihood': -407.7884, 'ELBO': -411.52655, 'KL': 3.7381668}\n"
     ]
    }
   ],
   "source": [
    "trainer = Trainer(model=model, x=x, batch_id=batch, max_epoch=250, mb_size=128, learning_rate=0.001)\n",
    "trainer.train()"
   ]
  },
  {
   "cell_type": "code",
   "execution_count": 9,
   "metadata": {},
   "outputs": [],
   "source": [
    "save_path = '../demo-out/'\n",
    "\n",
    "model_name = save_path + 'cd14_mono_eryth_model_250epoch'\n",
    "model.save_sess(model_name)"
   ]
  },
  {
   "cell_type": "code",
   "execution_count": 10,
   "metadata": {},
   "outputs": [],
   "source": [
    "z_mean = model.encode(x, batch)\n",
    "np.savetxt(save_path +\n",
    "           'cd14_mono_eryth_latent_250epoch.tsv',\n",
    "           z_mean)\n"
   ]
  },
  {
   "cell_type": "code",
   "execution_count": 11,
   "metadata": {},
   "outputs": [],
   "source": [
    "ll = model.get_log_likelihood(x, batch)\n",
    "np.savetxt(save_path +\n",
    "           'cd14_mono_eryth_ll_250epoch.tsv',\n",
    "           z_mean)"
   ]
  },
  {
   "cell_type": "code",
   "execution_count": 12,
   "metadata": {},
   "outputs": [],
   "source": [
    "# why is one float and one int?\n",
    "# read study for data collection of scphere data"
   ]
  }
 ],
 "metadata": {
  "interpreter": {
   "hash": "957d95be36550bb98cea9e083ad073b1b4e114a95d698b70973810f7550d7bdd"
  },
  "kernelspec": {
   "display_name": "Python 3.6.13 64-bit ('scphere': conda)",
   "language": "python",
   "name": "python3"
  },
  "language_info": {
   "codemirror_mode": {
    "name": "ipython",
    "version": 3
   },
   "file_extension": ".py",
   "mimetype": "text/x-python",
   "name": "python",
   "nbconvert_exporter": "python",
   "pygments_lexer": "ipython3",
   "version": "3.6.13"
  },
  "orig_nbformat": 4
 },
 "nbformat": 4,
 "nbformat_minor": 2
}
