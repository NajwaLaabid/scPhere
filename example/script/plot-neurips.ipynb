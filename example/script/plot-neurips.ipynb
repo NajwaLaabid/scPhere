{
 "cells": [
  {
   "cell_type": "code",
   "execution_count": 1,
   "metadata": {},
   "outputs": [
    {
     "name": "stderr",
     "output_type": "stream",
     "text": [
      "/Users/najwalaabid/miniconda3/envs/scphere/lib/python3.6/site-packages/rpy2/robjects/pandas2ri.py:17: FutureWarning: pandas.core.index is deprecated and will be removed in a future version.  The public classes are available in the top-level namespace.\n",
      "  from pandas.core.index import Index as PandasIndex\n"
     ]
    }
   ],
   "source": [
    "%load_ext rpy2.ipython"
   ]
  },
  {
   "cell_type": "code",
   "execution_count": 2,
   "metadata": {},
   "outputs": [
    {
     "name": "stderr",
     "output_type": "stream",
     "text": [
      "/Users/najwalaabid/miniconda3/envs/scphere/lib/python3.6/site-packages/rpy2/rinterface/__init__.py:146: RRuntimeWarning: This build of rgl does not include OpenGL functions.  Use\n",
      " rglwidget() to display results, e.g. via options(rgl.printRglwidget = TRUE).\n",
      "\n",
      "  warnings.warn(x, RRuntimeWarning)\n"
     ]
    }
   ],
   "source": [
    "%%R\n",
    "\n",
    "library(\"rgl\")\n",
    "library(densitycut) # \n",
    "library(robustbase)"
   ]
  },
  {
   "cell_type": "code",
   "execution_count": 3,
   "metadata": {},
   "outputs": [],
   "source": [
    "%%R\n",
    "\n",
    "PlotSphere = function(x, cluster, col, density=FALSE, legend=FALSE) {\n",
    "  if (missing(col)) {\n",
    "    col = distinct.col\n",
    "  }\n",
    "  if (density == FALSE) {\n",
    "    col.point = AssignLabelColor(col, cluster, \n",
    "                                 uniq.label = sort(unique(cluster)))\n",
    "  } else {\n",
    "    colours = colorRampPalette((brewer.pal(7, \"YlOrRd\")))(10)\n",
    "    FUN = colorRamp(colours)\n",
    "    \n",
    "    cluster = (cluster - min(cluster)) / diff(range(cluster))\n",
    "    col.point = rgb(FUN(cluster), maxColorValue=256)\n",
    "  }\n",
    "  plot3d(x[, 1:3], col = col.point, \n",
    "         xlim=c(-1, 1), ylim=c(-1, 1), zlim=c(-1, 1), \n",
    "         box=FALSE, axes=FALSE, xlab='', ylab='', zlab='')\n",
    "  \n",
    "  arrow3d(c(0, -1.35, 0), c(0, 1.35, 0), \n",
    "          col = 'gray', s=0.04, type='extrusion', lit=FALSE)\n",
    "  \n",
    "  spheres3d(0, 0, 0, lit=FALSE, color='#dbd7d2', \n",
    "            alpha=0.6, radius=0.99)\n",
    "  spheres3d(0, 0, 0, radius=0.9999, lit=FALSE, color='gray', \n",
    "            front='lines', alpha=0.6)\n",
    "  \n",
    "  if (density == FALSE) {\n",
    "    id = !duplicated(cluster)\n",
    "    col.leg = AssignLabelColor(col, cluster)[id]\n",
    "    leg = cluster[id]\n",
    "    names(col.leg) = leg\n",
    "    \n",
    "    if (legend == TRUE) {\n",
    "      legend3d(\"topright\", legend = leg, \n",
    "               pch = 16, col = col.leg, cex=1, inset=c(0.02)) \n",
    "    }\n",
    "    \n",
    "    cluster.srt = sort(unique(cluster))\n",
    "    k.centers = sapply(cluster.srt, function(zz) {\n",
    "      cat(zz, '\\t')\n",
    "      id = cluster == zz\n",
    "      center = colMedians(as.matrix(x[id, , drop=FALSE]))\n",
    "    })\n",
    "    \n",
    "    k.centers = t(k.centers)\n",
    "    \n",
    "    cluster.size = table(cluster)[as.character(cluster.srt)]\n",
    "    id = which(cluster.size > 0)\n",
    "    \n",
    "    if (length(id) > 0) {\n",
    "      k.centers = k.centers[id, , drop=FALSE]\n",
    "      cluster.srt = cluster.srt[id]\n",
    "    }\n",
    "    \n",
    "    k.centers = k.centers / sqrt(rowSums(k.centers^2)) * 1.15\n",
    "    text3d(k.centers, texts=cluster.srt, col='black')\n",
    "  }\n",
    "}"
   ]
  },
  {
   "cell_type": "code",
   "execution_count": 4,
   "metadata": {},
   "outputs": [
    {
     "data": {
      "text/plain": [
       "CD14+ Mono \t"
      ]
     },
     "metadata": {},
     "output_type": "display_data"
    }
   ],
   "source": [
    "%%R\n",
    "\n",
    "cell.type = read.delim('../demo-out/cite_cell_types.tsv', header=FALSE, stringsAsFactors = FALSE)[,1]\n",
    "\n",
    "x = read.delim('../demo-out/cite_latent_250epoch.tsv', sep=' ', header=FALSE)\n",
    "\n",
    "PlotSphere(x, cell.type)"
   ]
  },
  {
   "cell_type": "code",
   "execution_count": 6,
   "metadata": {},
   "outputs": [],
   "source": [
    "%%R \n",
    "rglwidget()"
   ]
  },
  {
   "cell_type": "code",
   "execution_count": null,
   "metadata": {},
   "outputs": [],
   "source": [
    "#%%R\n",
    "# can't open browser in server anyway => look for alternative to visualize 3D plot in notebook\n",
    "\n",
    "# rgl.snapshot('../demo-out/uc_epi_latent_250epoch_scphere.png',  fmt='png')\n",
    "\n",
    "# browseURL(writeWebGL(filename=paste('../demo-out/', \n",
    "#                                     'uc_epi_latent_250epoch_scphere.html', sep='/'),\n",
    "#                      browser = getOption(\"browser\"),\n",
    "#                      width=1000))"
   ]
  },
  {
   "cell_type": "code",
   "execution_count": null,
   "metadata": {},
   "outputs": [
    {
     "data": {
      "image/png": "[encoded data removed]"
     },
     "metadata": {},
     "output_type": "display_data"
    }
   ],
   "source": [
    "%%R\n",
    "library(sphereplot)\n",
    "y = car2sph(x)\n",
    "\n",
    "col = AssignLabelColor(distinct.col, cell.type)\n",
    "NeatPlot(y[, 1:2], col=col, cex=0.25, \n",
    "         cex.axis=1, xaxt='n', yaxt='n')"
   ]
  },
  {
   "cell_type": "code",
   "execution_count": null,
   "metadata": {},
   "outputs": [],
   "source": []
  }
 ],
 "metadata": {
  "interpreter": {
   "hash": "e385c1c8591afbea1cf767ca1d718425013cc58596b58aa653155faf7b176dbc"
  },
  "kernelspec": {
   "display_name": "Python 3.6.13 64-bit ('scphere-orig': conda)",
   "language": "python",
   "name": "python3"
  },
  "language_info": {
   "codemirror_mode": {
    "name": "ipython",
    "version": 3
   },
   "file_extension": ".py",
   "mimetype": "text/x-python",
   "name": "python",
   "nbconvert_exporter": "python",
   "pygments_lexer": "ipython3",
   "version": "3.6.8"
  },
  "orig_nbformat": 4
 },
 "nbformat": 4,
 "nbformat_minor": 2
}
