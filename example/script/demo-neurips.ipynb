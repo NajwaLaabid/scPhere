{
 "cells": [
  {
   "cell_type": "code",
   "execution_count": 1,
   "metadata": {},
   "outputs": [],
   "source": [
    "%load_ext autoreload"
   ]
  },
  {
   "cell_type": "code",
   "execution_count": 2,
   "metadata": {},
   "outputs": [],
   "source": [
    "%autoreload 2"
   ]
  },
  {
   "cell_type": "code",
   "execution_count": 3,
   "metadata": {},
   "outputs": [],
   "source": [
    "exp = '2types_'"
   ]
  },
  {
   "cell_type": "code",
   "execution_count": 4,
   "metadata": {},
   "outputs": [
    {
     "name": "stderr",
     "output_type": "stream",
     "text": [
      "/home/users/nlaabid/miniconda3/envs/scphere2/lib/python3.6/site-packages/tensorflow/python/framework/dtypes.py:516: FutureWarning: Passing (type, 1) or '1type' as a synonym of type is deprecated; in a future version of numpy, it will be understood as (type, (1,)) / '(1,)type'.\n",
      "  _np_qint8 = np.dtype([(\"qint8\", np.int8, 1)])\n",
      "/home/users/nlaabid/miniconda3/envs/scphere2/lib/python3.6/site-packages/tensorflow/python/framework/dtypes.py:517: FutureWarning: Passing (type, 1) or '1type' as a synonym of type is deprecated; in a future version of numpy, it will be understood as (type, (1,)) / '(1,)type'.\n",
      "  _np_quint8 = np.dtype([(\"quint8\", np.uint8, 1)])\n",
      "/home/users/nlaabid/miniconda3/envs/scphere2/lib/python3.6/site-packages/tensorflow/python/framework/dtypes.py:518: FutureWarning: Passing (type, 1) or '1type' as a synonym of type is deprecated; in a future version of numpy, it will be understood as (type, (1,)) / '(1,)type'.\n",
      "  _np_qint16 = np.dtype([(\"qint16\", np.int16, 1)])\n",
      "/home/users/nlaabid/miniconda3/envs/scphere2/lib/python3.6/site-packages/tensorflow/python/framework/dtypes.py:519: FutureWarning: Passing (type, 1) or '1type' as a synonym of type is deprecated; in a future version of numpy, it will be understood as (type, (1,)) / '(1,)type'.\n",
      "  _np_quint16 = np.dtype([(\"quint16\", np.uint16, 1)])\n",
      "/home/users/nlaabid/miniconda3/envs/scphere2/lib/python3.6/site-packages/tensorflow/python/framework/dtypes.py:520: FutureWarning: Passing (type, 1) or '1type' as a synonym of type is deprecated; in a future version of numpy, it will be understood as (type, (1,)) / '(1,)type'.\n",
      "  _np_qint32 = np.dtype([(\"qint32\", np.int32, 1)])\n",
      "/home/users/nlaabid/miniconda3/envs/scphere2/lib/python3.6/site-packages/tensorflow/python/framework/dtypes.py:525: FutureWarning: Passing (type, 1) or '1type' as a synonym of type is deprecated; in a future version of numpy, it will be understood as (type, (1,)) / '(1,)type'.\n",
      "  np_resource = np.dtype([(\"resource\", np.ubyte, 1)])\n",
      "/home/users/nlaabid/miniconda3/envs/scphere2/lib/python3.6/site-packages/tensorboard/compat/tensorflow_stub/dtypes.py:541: FutureWarning: Passing (type, 1) or '1type' as a synonym of type is deprecated; in a future version of numpy, it will be understood as (type, (1,)) / '(1,)type'.\n",
      "  _np_qint8 = np.dtype([(\"qint8\", np.int8, 1)])\n",
      "/home/users/nlaabid/miniconda3/envs/scphere2/lib/python3.6/site-packages/tensorboard/compat/tensorflow_stub/dtypes.py:542: FutureWarning: Passing (type, 1) or '1type' as a synonym of type is deprecated; in a future version of numpy, it will be understood as (type, (1,)) / '(1,)type'.\n",
      "  _np_quint8 = np.dtype([(\"quint8\", np.uint8, 1)])\n",
      "/home/users/nlaabid/miniconda3/envs/scphere2/lib/python3.6/site-packages/tensorboard/compat/tensorflow_stub/dtypes.py:543: FutureWarning: Passing (type, 1) or '1type' as a synonym of type is deprecated; in a future version of numpy, it will be understood as (type, (1,)) / '(1,)type'.\n",
      "  _np_qint16 = np.dtype([(\"qint16\", np.int16, 1)])\n",
      "/home/users/nlaabid/miniconda3/envs/scphere2/lib/python3.6/site-packages/tensorboard/compat/tensorflow_stub/dtypes.py:544: FutureWarning: Passing (type, 1) or '1type' as a synonym of type is deprecated; in a future version of numpy, it will be understood as (type, (1,)) / '(1,)type'.\n",
      "  _np_quint16 = np.dtype([(\"quint16\", np.uint16, 1)])\n",
      "/home/users/nlaabid/miniconda3/envs/scphere2/lib/python3.6/site-packages/tensorboard/compat/tensorflow_stub/dtypes.py:545: FutureWarning: Passing (type, 1) or '1type' as a synonym of type is deprecated; in a future version of numpy, it will be understood as (type, (1,)) / '(1,)type'.\n",
      "  _np_qint32 = np.dtype([(\"qint32\", np.int32, 1)])\n",
      "/home/users/nlaabid/miniconda3/envs/scphere2/lib/python3.6/site-packages/tensorboard/compat/tensorflow_stub/dtypes.py:550: FutureWarning: Passing (type, 1) or '1type' as a synonym of type is deprecated; in a future version of numpy, it will be understood as (type, (1,)) / '(1,)type'.\n",
      "  np_resource = np.dtype([(\"resource\", np.ubyte, 1)])\n"
     ]
    }
   ],
   "source": [
    "import anndata as ad\n",
    "import numpy as np\n",
    "from scphere.model.vae import SCPHERE\n",
    "from scphere.util.trainer import Trainer"
   ]
  },
  {
   "cell_type": "code",
   "execution_count": 5,
   "metadata": {},
   "outputs": [
    {
     "name": "stderr",
     "output_type": "stream",
     "text": [
      "Variable names are not unique. To make them unique, call `.var_names_make_unique`.\n"
     ]
    },
    {
     "data": {
      "text/plain": [
       "AnnData object with n_obs × n_vars = 90261 × 14087\n",
       "    obs: 'GEX_n_genes_by_counts', 'GEX_pct_counts_mt', 'GEX_size_factors', 'GEX_phase', 'ADT_n_antibodies_by_counts', 'ADT_total_counts', 'ADT_iso_count', 'cell_type', 'batch', 'ADT_pseudotime_order', 'GEX_pseudotime_order', 'Samplename', 'Site', 'DonorNumber', 'Modality', 'VendorLot', 'DonorID', 'DonorAge', 'DonorBMI', 'DonorBloodType', 'DonorRace', 'Ethnicity', 'DonorGender', 'QCMeds', 'DonorSmoker', 'is_train'\n",
       "    var: 'feature_types', 'gene_id'\n",
       "    uns: 'dataset_id', 'genome', 'organism'\n",
       "    obsm: 'ADT_X_pca', 'ADT_X_umap', 'ADT_isotype_controls', 'GEX_X_pca', 'GEX_X_umap'\n",
       "    layers: 'counts'"
      ]
     },
     "execution_count": 5,
     "metadata": {},
     "output_type": "execute_result"
    }
   ],
   "source": [
    "neurips_data = '/home/users/nlaabid/neurips-data/full_data/cite.h5ad'\n",
    "input_train_mod1 = ad.read_h5ad(neurips_data)\n",
    "input_train_mod1.var_names_make_unique()\n",
    "input_train_mod1"
   ]
  },
  {
   "cell_type": "code",
   "execution_count": 6,
   "metadata": {},
   "outputs": [
    {
     "data": {
      "text/plain": [
       "CD14+ Mono                          21693\n",
       "CD4+ T activated                     6966\n",
       "CD4+ T naive                         5897\n",
       "NK                                   5434\n",
       "Reticulocyte                         4272\n",
       "Erythroblast                         4039\n",
       "Naive CD20+ B IGKC+                  3990\n",
       "CD8+ T naive                         3107\n",
       "CD16+ Mono                           2635\n",
       "NK CD158e1+                          2167\n",
       "Naive CD20+ B IGKC-                  1979\n",
       "G/M prog                             1881\n",
       "pDC                                  1758\n",
       "HSC                                  1703\n",
       "cDC2                                 1702\n",
       "Lymph prog                           1681\n",
       "Transitional B                       1575\n",
       "Proerythroblast                      1512\n",
       "CD8+ T CD57+ CD45RO+                 1470\n",
       "Normoblast                           1435\n",
       "CD8+ T CD57+ CD45RA+                 1303\n",
       "CD8+ T TIGIT+ CD45RO+                1160\n",
       "CD4+ T activated integrinB7+         1056\n",
       "CD8+ T TIGIT+ CD45RA+                1032\n",
       "CD8+ T CD49f+                         912\n",
       "CD8+ T CD69+ CD45RO+                  897\n",
       "B1 B IGKC+                            820\n",
       "MAIT                                  756\n",
       "CD8+ T CD69+ CD45RA+                  740\n",
       "MK/E prog                             690\n",
       "gdT CD158b+                           674\n",
       "B1 B IGKC-                            613\n",
       "T reg                                 609\n",
       "ILC1                                  552\n",
       "Plasma cell IGKC+                     288\n",
       "Plasma cell IGKC-                     239\n",
       "ILC                                   238\n",
       "Plasmablast IGKC+                     232\n",
       "gdT TCRVD2+                           191\n",
       "Plasmablast IGKC-                     130\n",
       "CD4+ T CD314+ CD45RA+                  93\n",
       "dnT                                    56\n",
       "CD8+ T naive CD127+ CD26- CD101-       42\n",
       "T prog cycling                         24\n",
       "cDC1                                   18\n",
       "Name: cell_type, dtype: int64"
      ]
     },
     "execution_count": 6,
     "metadata": {},
     "output_type": "execute_result"
    }
   ],
   "source": [
    "input_train_mod1.obs['cell_type'].value_counts()"
   ]
  },
  {
   "cell_type": "code",
   "execution_count": 7,
   "metadata": {},
   "outputs": [
    {
     "data": {
      "text/plain": [
       "View of AnnData object with n_obs × n_vars = 962 × 14087\n",
       "    obs: 'GEX_n_genes_by_counts', 'GEX_pct_counts_mt', 'GEX_size_factors', 'GEX_phase', 'ADT_n_antibodies_by_counts', 'ADT_total_counts', 'ADT_iso_count', 'cell_type', 'batch', 'ADT_pseudotime_order', 'GEX_pseudotime_order', 'Samplename', 'Site', 'DonorNumber', 'Modality', 'VendorLot', 'DonorID', 'DonorAge', 'DonorBMI', 'DonorBloodType', 'DonorRace', 'Ethnicity', 'DonorGender', 'QCMeds', 'DonorSmoker', 'is_train'\n",
       "    var: 'feature_types', 'gene_id'\n",
       "    uns: 'dataset_id', 'genome', 'organism'\n",
       "    obsm: 'ADT_X_pca', 'ADT_X_umap', 'ADT_isotype_controls', 'GEX_X_pca', 'GEX_X_umap'\n",
       "    layers: 'counts'"
      ]
     },
     "execution_count": 7,
     "metadata": {},
     "output_type": "execute_result"
    }
   ],
   "source": [
    "b = ['s1d1']\n",
    "c = ['CD14+ Mono', 'Erythroblast']\n",
    "data = input_train_mod1[(input_train_mod1.obs['batch'].isin(b))&(input_train_mod1.obs['cell_type'].isin(c))]\n",
    "\n",
    "data"
   ]
  },
  {
   "cell_type": "code",
   "execution_count": 8,
   "metadata": {},
   "outputs": [],
   "source": [
    "cell_types = data.obs['cell_type'].to_numpy()\n",
    "np.savetxt('../demo-out/' + exp +\n",
    "           'cite_cell_types.tsv',\n",
    "           cell_types, fmt='%s')\n"
   ]
  },
  {
   "cell_type": "code",
   "execution_count": 9,
   "metadata": {},
   "outputs": [],
   "source": [
    "x = data.X.toarray().astype(dtype='int')"
   ]
  },
  {
   "cell_type": "code",
   "execution_count": 10,
   "metadata": {},
   "outputs": [],
   "source": [
    "batch = np.zeros(x.shape[0]) * -1"
   ]
  },
  {
   "cell_type": "code",
   "execution_count": 11,
   "metadata": {},
   "outputs": [
    {
     "name": "stdout",
     "output_type": "stream",
     "text": [
      "WARNING:tensorflow:\n",
      "The TensorFlow contrib module will not be included in TensorFlow 2.0.\n",
      "For more information, please see:\n",
      "  * https://github.com/tensorflow/community/blob/master/rfcs/20180907-contrib-sunset.md\n",
      "  * https://github.com/tensorflow/addons\n",
      "  * https://github.com/tensorflow/io (for I/O related ops)\n",
      "If you depend on functionality not listed there, please file an issue.\n",
      "\n"
     ]
    },
    {
     "name": "stderr",
     "output_type": "stream",
     "text": [
      "2022-02-20 18:08:33,119: WARNING: \n",
      "The TensorFlow contrib module will not be included in TensorFlow 2.0.\n",
      "For more information, please see:\n",
      "  * https://github.com/tensorflow/community/blob/master/rfcs/20180907-contrib-sunset.md\n",
      "  * https://github.com/tensorflow/addons\n",
      "  * https://github.com/tensorflow/io (for I/O related ops)\n",
      "If you depend on functionality not listed there, please file an issue.\n",
      "\n"
     ]
    },
    {
     "name": "stdout",
     "output_type": "stream",
     "text": [
      "WARNING:tensorflow:From /home/users/nlaabid/miniconda3/envs/scphere2/lib/python3.6/site-packages/tensorflow/python/ops/init_ops.py:1251: calling VarianceScaling.__init__ (from tensorflow.python.ops.init_ops) with dtype is deprecated and will be removed in a future version.\n",
      "Instructions for updating:\n",
      "Call initializer instance with the dtype argument instead of passing it to the constructor\n"
     ]
    },
    {
     "name": "stderr",
     "output_type": "stream",
     "text": [
      "2022-02-20 18:08:33,133: WARNING: From /home/users/nlaabid/miniconda3/envs/scphere2/lib/python3.6/site-packages/tensorflow/python/ops/init_ops.py:1251: calling VarianceScaling.__init__ (from tensorflow.python.ops.init_ops) with dtype is deprecated and will be removed in a future version.\n",
      "Instructions for updating:\n",
      "Call initializer instance with the dtype argument instead of passing it to the constructor\n"
     ]
    },
    {
     "name": "stdout",
     "output_type": "stream",
     "text": [
      "WARNING:tensorflow:From /home/users/nlaabid/miniconda3/envs/scphere2/lib/python3.6/site-packages/tensorflow/python/ops/math_ops.py:2403: add_dispatch_support.<locals>.wrapper (from tensorflow.python.ops.array_ops) is deprecated and will be removed in a future version.\n",
      "Instructions for updating:\n",
      "Use tf.where in 2.0, which has the same broadcast rule as np.where\n"
     ]
    },
    {
     "name": "stderr",
     "output_type": "stream",
     "text": [
      "2022-02-20 18:08:33,409: WARNING: From /home/users/nlaabid/miniconda3/envs/scphere2/lib/python3.6/site-packages/tensorflow/python/ops/math_ops.py:2403: add_dispatch_support.<locals>.wrapper (from tensorflow.python.ops.array_ops) is deprecated and will be removed in a future version.\n",
      "Instructions for updating:\n",
      "Use tf.where in 2.0, which has the same broadcast rule as np.where\n"
     ]
    },
    {
     "name": "stdout",
     "output_type": "stream",
     "text": [
      "WARNING:tensorflow:From /home/users/nlaabid/miniconda3/envs/scphere2/lib/python3.6/site-packages/scPhere-0.1.0-py3.6.egg/scphere/ops/ive.py:23: py_func (from tensorflow.python.ops.script_ops) is deprecated and will be removed in a future version.\n",
      "Instructions for updating:\n",
      "tf.py_func is deprecated in TF V2. Instead, there are two\n",
      "    options available in V2.\n",
      "    - tf.py_function takes a python function which manipulates tf eager\n",
      "    tensors instead of numpy arrays. It's easy to convert a tf eager tensor to\n",
      "    an ndarray (just call tensor.numpy()) but having access to eager tensors\n",
      "    means `tf.py_function`s can use accelerators such as GPUs as well as\n",
      "    being differentiable using a gradient tape.\n",
      "    - tf.numpy_function maintains the semantics of the deprecated tf.py_func\n",
      "    (it is not differentiable, and manipulates numpy arrays). It drops the\n",
      "    stateful argument making all functions stateful.\n",
      "    \n"
     ]
    },
    {
     "name": "stderr",
     "output_type": "stream",
     "text": [
      "2022-02-20 18:08:34,011: WARNING: From /home/users/nlaabid/miniconda3/envs/scphere2/lib/python3.6/site-packages/scPhere-0.1.0-py3.6.egg/scphere/ops/ive.py:23: py_func (from tensorflow.python.ops.script_ops) is deprecated and will be removed in a future version.\n",
      "Instructions for updating:\n",
      "tf.py_func is deprecated in TF V2. Instead, there are two\n",
      "    options available in V2.\n",
      "    - tf.py_function takes a python function which manipulates tf eager\n",
      "    tensors instead of numpy arrays. It's easy to convert a tf eager tensor to\n",
      "    an ndarray (just call tensor.numpy()) but having access to eager tensors\n",
      "    means `tf.py_function`s can use accelerators such as GPUs as well as\n",
      "    being differentiable using a gradient tape.\n",
      "    - tf.numpy_function maintains the semantics of the deprecated tf.py_func\n",
      "    (it is not differentiable, and manipulates numpy arrays). It drops the\n",
      "    stateful argument making all functions stateful.\n",
      "    \n"
     ]
    }
   ],
   "source": [
    "model = SCPHERE(n_gene=x.shape[1], n_batch=0, batch_invariant=False,\n",
    "                z_dim=2, latent_dist='vmf',\n",
    "                observation_dist='nb', seed=0)"
   ]
  },
  {
   "cell_type": "code",
   "execution_count": 12,
   "metadata": {},
   "outputs": [
    {
     "name": "stdout",
     "output_type": "stream",
     "text": [
      "0 / 1750 {'Log-likelihood': -11041.837, 'ELBO': -11042.204, 'KL': 0.3668961}\n",
      "50 / 1750 {'Log-likelihood': -5160.466, 'ELBO': -5163.0986, 'KL': 2.632784}\n",
      "100 / 1750 {'Log-likelihood': -4564.6616, 'ELBO': -4567.58, 'KL': 2.9185343}\n",
      "150 / 1750 {'Log-likelihood': -4639.075, 'ELBO': -4642.103, 'KL': 3.0278437}\n",
      "200 / 1750 {'Log-likelihood': -4581.0947, 'ELBO': -4584.1875, 'KL': 3.0929382}\n",
      "250 / 1750 {'Log-likelihood': -4530.8545, 'ELBO': -4533.945, 'KL': 3.0901623}\n",
      "300 / 1750 {'Log-likelihood': -4347.827, 'ELBO': -4350.882, 'KL': 3.0545225}\n",
      "350 / 1750 {'Log-likelihood': -4598.926, 'ELBO': -4602.3477, 'KL': 3.4220428}\n",
      "400 / 1750 {'Log-likelihood': -4320.6304, 'ELBO': -4324.5093, 'KL': 3.8789122}\n",
      "450 / 1750 {'Log-likelihood': -4217.282, 'ELBO': -4221.4287, 'KL': 4.146533}\n",
      "500 / 1750 {'Log-likelihood': -4176.4688, 'ELBO': -4180.8057, 'KL': 4.3367944}\n",
      "550 / 1750 {'Log-likelihood': -4131.41, 'ELBO': -4135.929, 'KL': 4.518983}\n",
      "600 / 1750 {'Log-likelihood': -4158.1494, 'ELBO': -4162.817, 'KL': 4.667248}\n",
      "650 / 1750 {'Log-likelihood': -4144.872, 'ELBO': -4149.638, 'KL': 4.7661834}\n",
      "700 / 1750 {'Log-likelihood': -4095.459, 'ELBO': -4100.2925, 'KL': 4.8336315}\n",
      "750 / 1750 {'Log-likelihood': -3937.377, 'ELBO': -3942.2983, 'KL': 4.92127}\n",
      "800 / 1750 {'Log-likelihood': -4056.7764, 'ELBO': -4061.7617, 'KL': 4.9853225}\n",
      "850 / 1750 {'Log-likelihood': -4116.869, 'ELBO': -4121.913, 'KL': 5.043707}\n",
      "900 / 1750 {'Log-likelihood': -3778.7793, 'ELBO': -3783.8875, 'KL': 5.108082}\n",
      "950 / 1750 {'Log-likelihood': -4144.6045, 'ELBO': -4149.7393, 'KL': 5.1348143}\n"
     ]
    }
   ],
   "source": [
    "trainer = Trainer(model=model, x=x, batch_id=batch, max_epoch=250, mb_size=128, learning_rate=0.001)\n",
    "trainer.train()"
   ]
  },
  {
   "cell_type": "code",
   "execution_count": null,
   "metadata": {},
   "outputs": [],
   "source": [
    "save_path = '../demo-out/'\n",
    "\n",
    "model_name = save_path + exp + 'cite_250epoch'\n",
    "model.save_sess(model_name)"
   ]
  },
  {
   "cell_type": "code",
   "execution_count": null,
   "metadata": {},
   "outputs": [],
   "source": [
    "z_mean = model.encode(x, batch)\n",
    "np.savetxt(save_path + exp +\n",
    "           'cite_latent_250epoch.tsv',\n",
    "           z_mean)\n"
   ]
  },
  {
   "cell_type": "code",
   "execution_count": null,
   "metadata": {},
   "outputs": [],
   "source": [
    "ll = model.get_log_likelihood(x, batch)\n",
    "np.savetxt(save_path + exp +\n",
    "           'cite_ll_250epoch.tsv',\n",
    "           z_mean)"
   ]
  },
  {
   "cell_type": "code",
   "execution_count": null,
   "metadata": {},
   "outputs": [],
   "source": [
    "# why is one float and one int?\n",
    "# read study for data collection of scphere data"
   ]
  }
 ],
 "metadata": {
  "interpreter": {
   "hash": "957d95be36550bb98cea9e083ad073b1b4e114a95d698b70973810f7550d7bdd"
  },
  "kernelspec": {
   "display_name": "Python 3.6.13 64-bit ('scphere': conda)",
   "language": "python",
   "name": "python3"
  },
  "language_info": {
   "codemirror_mode": {
    "name": "ipython",
    "version": 3
   },
   "file_extension": ".py",
   "mimetype": "text/x-python",
   "name": "python",
   "nbconvert_exporter": "python",
   "pygments_lexer": "ipython3",
   "version": "3.6.13"
  },
  "orig_nbformat": 4
 },
 "nbformat": 4,
 "nbformat_minor": 2
}
