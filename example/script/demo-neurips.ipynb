{
 "cells": [
  {
   "cell_type": "code",
   "execution_count": 1,
   "metadata": {},
   "outputs": [],
   "source": [
    "%load_ext autoreload"
   ]
  },
  {
   "cell_type": "code",
   "execution_count": 2,
   "metadata": {},
   "outputs": [],
   "source": [
    "%autoreload 2"
   ]
  },
  {
   "cell_type": "code",
   "execution_count": 3,
   "metadata": {},
   "outputs": [],
   "source": [
    "exp = '3types_'"
   ]
  },
  {
   "cell_type": "code",
   "execution_count": 4,
   "metadata": {},
   "outputs": [
    {
     "name": "stderr",
     "output_type": "stream",
     "text": [
      "/home/users/nlaabid/miniconda3/envs/scphere2/lib/python3.6/site-packages/tensorflow/python/framework/dtypes.py:516: FutureWarning: Passing (type, 1) or '1type' as a synonym of type is deprecated; in a future version of numpy, it will be understood as (type, (1,)) / '(1,)type'.\n",
      "  _np_qint8 = np.dtype([(\"qint8\", np.int8, 1)])\n",
      "/home/users/nlaabid/miniconda3/envs/scphere2/lib/python3.6/site-packages/tensorflow/python/framework/dtypes.py:517: FutureWarning: Passing (type, 1) or '1type' as a synonym of type is deprecated; in a future version of numpy, it will be understood as (type, (1,)) / '(1,)type'.\n",
      "  _np_quint8 = np.dtype([(\"quint8\", np.uint8, 1)])\n",
      "/home/users/nlaabid/miniconda3/envs/scphere2/lib/python3.6/site-packages/tensorflow/python/framework/dtypes.py:518: FutureWarning: Passing (type, 1) or '1type' as a synonym of type is deprecated; in a future version of numpy, it will be understood as (type, (1,)) / '(1,)type'.\n",
      "  _np_qint16 = np.dtype([(\"qint16\", np.int16, 1)])\n",
      "/home/users/nlaabid/miniconda3/envs/scphere2/lib/python3.6/site-packages/tensorflow/python/framework/dtypes.py:519: FutureWarning: Passing (type, 1) or '1type' as a synonym of type is deprecated; in a future version of numpy, it will be understood as (type, (1,)) / '(1,)type'.\n",
      "  _np_quint16 = np.dtype([(\"quint16\", np.uint16, 1)])\n",
      "/home/users/nlaabid/miniconda3/envs/scphere2/lib/python3.6/site-packages/tensorflow/python/framework/dtypes.py:520: FutureWarning: Passing (type, 1) or '1type' as a synonym of type is deprecated; in a future version of numpy, it will be understood as (type, (1,)) / '(1,)type'.\n",
      "  _np_qint32 = np.dtype([(\"qint32\", np.int32, 1)])\n",
      "/home/users/nlaabid/miniconda3/envs/scphere2/lib/python3.6/site-packages/tensorflow/python/framework/dtypes.py:525: FutureWarning: Passing (type, 1) or '1type' as a synonym of type is deprecated; in a future version of numpy, it will be understood as (type, (1,)) / '(1,)type'.\n",
      "  np_resource = np.dtype([(\"resource\", np.ubyte, 1)])\n",
      "/home/users/nlaabid/miniconda3/envs/scphere2/lib/python3.6/site-packages/tensorboard/compat/tensorflow_stub/dtypes.py:541: FutureWarning: Passing (type, 1) or '1type' as a synonym of type is deprecated; in a future version of numpy, it will be understood as (type, (1,)) / '(1,)type'.\n",
      "  _np_qint8 = np.dtype([(\"qint8\", np.int8, 1)])\n",
      "/home/users/nlaabid/miniconda3/envs/scphere2/lib/python3.6/site-packages/tensorboard/compat/tensorflow_stub/dtypes.py:542: FutureWarning: Passing (type, 1) or '1type' as a synonym of type is deprecated; in a future version of numpy, it will be understood as (type, (1,)) / '(1,)type'.\n",
      "  _np_quint8 = np.dtype([(\"quint8\", np.uint8, 1)])\n",
      "/home/users/nlaabid/miniconda3/envs/scphere2/lib/python3.6/site-packages/tensorboard/compat/tensorflow_stub/dtypes.py:543: FutureWarning: Passing (type, 1) or '1type' as a synonym of type is deprecated; in a future version of numpy, it will be understood as (type, (1,)) / '(1,)type'.\n",
      "  _np_qint16 = np.dtype([(\"qint16\", np.int16, 1)])\n",
      "/home/users/nlaabid/miniconda3/envs/scphere2/lib/python3.6/site-packages/tensorboard/compat/tensorflow_stub/dtypes.py:544: FutureWarning: Passing (type, 1) or '1type' as a synonym of type is deprecated; in a future version of numpy, it will be understood as (type, (1,)) / '(1,)type'.\n",
      "  _np_quint16 = np.dtype([(\"quint16\", np.uint16, 1)])\n",
      "/home/users/nlaabid/miniconda3/envs/scphere2/lib/python3.6/site-packages/tensorboard/compat/tensorflow_stub/dtypes.py:545: FutureWarning: Passing (type, 1) or '1type' as a synonym of type is deprecated; in a future version of numpy, it will be understood as (type, (1,)) / '(1,)type'.\n",
      "  _np_qint32 = np.dtype([(\"qint32\", np.int32, 1)])\n",
      "/home/users/nlaabid/miniconda3/envs/scphere2/lib/python3.6/site-packages/tensorboard/compat/tensorflow_stub/dtypes.py:550: FutureWarning: Passing (type, 1) or '1type' as a synonym of type is deprecated; in a future version of numpy, it will be understood as (type, (1,)) / '(1,)type'.\n",
      "  np_resource = np.dtype([(\"resource\", np.ubyte, 1)])\n"
     ]
    }
   ],
   "source": [
    "import anndata as ad\n",
    "import numpy as np\n",
    "from scphere.model.vae import SCPHERE\n",
    "from scphere.util.trainer import Trainer"
   ]
  },
  {
   "cell_type": "code",
   "execution_count": 5,
   "metadata": {},
   "outputs": [
    {
     "name": "stderr",
     "output_type": "stream",
     "text": [
      "Variable names are not unique. To make them unique, call `.var_names_make_unique`.\n"
     ]
    },
    {
     "data": {
      "text/plain": [
       "AnnData object with n_obs × n_vars = 90261 × 14087\n",
       "    obs: 'GEX_n_genes_by_counts', 'GEX_pct_counts_mt', 'GEX_size_factors', 'GEX_phase', 'ADT_n_antibodies_by_counts', 'ADT_total_counts', 'ADT_iso_count', 'cell_type', 'batch', 'ADT_pseudotime_order', 'GEX_pseudotime_order', 'Samplename', 'Site', 'DonorNumber', 'Modality', 'VendorLot', 'DonorID', 'DonorAge', 'DonorBMI', 'DonorBloodType', 'DonorRace', 'Ethnicity', 'DonorGender', 'QCMeds', 'DonorSmoker', 'is_train'\n",
       "    var: 'feature_types', 'gene_id'\n",
       "    uns: 'dataset_id', 'genome', 'organism'\n",
       "    obsm: 'ADT_X_pca', 'ADT_X_umap', 'ADT_isotype_controls', 'GEX_X_pca', 'GEX_X_umap'\n",
       "    layers: 'counts'"
      ]
     },
     "execution_count": 5,
     "metadata": {},
     "output_type": "execute_result"
    }
   ],
   "source": [
    "neurips_data = '/home/users/nlaabid/neurips-data/full_data/cite.h5ad'\n",
    "input_train_mod1 = ad.read_h5ad(neurips_data)\n",
    "input_train_mod1.var_names_make_unique()\n",
    "input_train_mod1"
   ]
  },
  {
   "cell_type": "code",
   "execution_count": 6,
   "metadata": {},
   "outputs": [
    {
     "data": {
      "text/plain": [
       "CD14+ Mono                          21693\n",
       "CD4+ T activated                     6966\n",
       "CD4+ T naive                         5897\n",
       "NK                                   5434\n",
       "Reticulocyte                         4272\n",
       "Erythroblast                         4039\n",
       "Naive CD20+ B IGKC+                  3990\n",
       "CD8+ T naive                         3107\n",
       "CD16+ Mono                           2635\n",
       "NK CD158e1+                          2167\n",
       "Naive CD20+ B IGKC-                  1979\n",
       "G/M prog                             1881\n",
       "pDC                                  1758\n",
       "HSC                                  1703\n",
       "cDC2                                 1702\n",
       "Lymph prog                           1681\n",
       "Transitional B                       1575\n",
       "Proerythroblast                      1512\n",
       "CD8+ T CD57+ CD45RO+                 1470\n",
       "Normoblast                           1435\n",
       "CD8+ T CD57+ CD45RA+                 1303\n",
       "CD8+ T TIGIT+ CD45RO+                1160\n",
       "CD4+ T activated integrinB7+         1056\n",
       "CD8+ T TIGIT+ CD45RA+                1032\n",
       "CD8+ T CD49f+                         912\n",
       "CD8+ T CD69+ CD45RO+                  897\n",
       "B1 B IGKC+                            820\n",
       "MAIT                                  756\n",
       "CD8+ T CD69+ CD45RA+                  740\n",
       "MK/E prog                             690\n",
       "gdT CD158b+                           674\n",
       "B1 B IGKC-                            613\n",
       "T reg                                 609\n",
       "ILC1                                  552\n",
       "Plasma cell IGKC+                     288\n",
       "Plasma cell IGKC-                     239\n",
       "ILC                                   238\n",
       "Plasmablast IGKC+                     232\n",
       "gdT TCRVD2+                           191\n",
       "Plasmablast IGKC-                     130\n",
       "CD4+ T CD314+ CD45RA+                  93\n",
       "dnT                                    56\n",
       "CD8+ T naive CD127+ CD26- CD101-       42\n",
       "T prog cycling                         24\n",
       "cDC1                                   18\n",
       "Name: cell_type, dtype: int64"
      ]
     },
     "execution_count": 6,
     "metadata": {},
     "output_type": "execute_result"
    }
   ],
   "source": [
    "input_train_mod1.obs['cell_type'].value_counts()"
   ]
  },
  {
   "cell_type": "code",
   "execution_count": 7,
   "metadata": {},
   "outputs": [
    {
     "data": {
      "text/plain": [
       "View of AnnData object with n_obs × n_vars = 1062 × 14087\n",
       "    obs: 'GEX_n_genes_by_counts', 'GEX_pct_counts_mt', 'GEX_size_factors', 'GEX_phase', 'ADT_n_antibodies_by_counts', 'ADT_total_counts', 'ADT_iso_count', 'cell_type', 'batch', 'ADT_pseudotime_order', 'GEX_pseudotime_order', 'Samplename', 'Site', 'DonorNumber', 'Modality', 'VendorLot', 'DonorID', 'DonorAge', 'DonorBMI', 'DonorBloodType', 'DonorRace', 'Ethnicity', 'DonorGender', 'QCMeds', 'DonorSmoker', 'is_train'\n",
       "    var: 'feature_types', 'gene_id'\n",
       "    uns: 'dataset_id', 'genome', 'organism'\n",
       "    obsm: 'ADT_X_pca', 'ADT_X_umap', 'ADT_isotype_controls', 'GEX_X_pca', 'GEX_X_umap'\n",
       "    layers: 'counts'"
      ]
     },
     "execution_count": 7,
     "metadata": {},
     "output_type": "execute_result"
    }
   ],
   "source": [
    "b = ['s1d1']\n",
    "c = ['CD14+ Mono', 'Erythroblast', 'Proerythroblast']\n",
    "data = input_train_mod1[(input_train_mod1.obs['batch'].isin(b))&(input_train_mod1.obs['cell_type'].isin(c))]\n",
    "\n",
    "data"
   ]
  },
  {
   "cell_type": "code",
   "execution_count": 8,
   "metadata": {},
   "outputs": [],
   "source": [
    "cell_types = data.obs['cell_type'].to_numpy()\n",
    "np.savetxt('../demo-out/' + exp +\n",
    "           'cite_cell_types.tsv',\n",
    "           cell_types, fmt='%s')\n"
   ]
  },
  {
   "cell_type": "code",
   "execution_count": 9,
   "metadata": {},
   "outputs": [],
   "source": [
    "x = data.X.toarray().astype(dtype='int')"
   ]
  },
  {
   "cell_type": "code",
   "execution_count": 10,
   "metadata": {},
   "outputs": [],
   "source": [
    "batch = np.zeros(x.shape[0]) * -1"
   ]
  },
  {
   "cell_type": "code",
   "execution_count": 11,
   "metadata": {},
   "outputs": [
    {
     "name": "stdout",
     "output_type": "stream",
     "text": [
      "WARNING:tensorflow:\n",
      "The TensorFlow contrib module will not be included in TensorFlow 2.0.\n",
      "For more information, please see:\n",
      "  * https://github.com/tensorflow/community/blob/master/rfcs/20180907-contrib-sunset.md\n",
      "  * https://github.com/tensorflow/addons\n",
      "  * https://github.com/tensorflow/io (for I/O related ops)\n",
      "If you depend on functionality not listed there, please file an issue.\n",
      "\n"
     ]
    },
    {
     "name": "stderr",
     "output_type": "stream",
     "text": [
      "2022-02-20 18:50:05,295: WARNING: \n",
      "The TensorFlow contrib module will not be included in TensorFlow 2.0.\n",
      "For more information, please see:\n",
      "  * https://github.com/tensorflow/community/blob/master/rfcs/20180907-contrib-sunset.md\n",
      "  * https://github.com/tensorflow/addons\n",
      "  * https://github.com/tensorflow/io (for I/O related ops)\n",
      "If you depend on functionality not listed there, please file an issue.\n",
      "\n"
     ]
    },
    {
     "name": "stdout",
     "output_type": "stream",
     "text": [
      "WARNING:tensorflow:From /home/users/nlaabid/miniconda3/envs/scphere2/lib/python3.6/site-packages/tensorflow/python/ops/init_ops.py:1251: calling VarianceScaling.__init__ (from tensorflow.python.ops.init_ops) with dtype is deprecated and will be removed in a future version.\n",
      "Instructions for updating:\n",
      "Call initializer instance with the dtype argument instead of passing it to the constructor\n"
     ]
    },
    {
     "name": "stderr",
     "output_type": "stream",
     "text": [
      "2022-02-20 18:50:05,308: WARNING: From /home/users/nlaabid/miniconda3/envs/scphere2/lib/python3.6/site-packages/tensorflow/python/ops/init_ops.py:1251: calling VarianceScaling.__init__ (from tensorflow.python.ops.init_ops) with dtype is deprecated and will be removed in a future version.\n",
      "Instructions for updating:\n",
      "Call initializer instance with the dtype argument instead of passing it to the constructor\n"
     ]
    },
    {
     "name": "stdout",
     "output_type": "stream",
     "text": [
      "WARNING:tensorflow:From /home/users/nlaabid/miniconda3/envs/scphere2/lib/python3.6/site-packages/tensorflow/python/ops/math_ops.py:2403: add_dispatch_support.<locals>.wrapper (from tensorflow.python.ops.array_ops) is deprecated and will be removed in a future version.\n",
      "Instructions for updating:\n",
      "Use tf.where in 2.0, which has the same broadcast rule as np.where\n"
     ]
    },
    {
     "name": "stderr",
     "output_type": "stream",
     "text": [
      "2022-02-20 18:50:05,543: WARNING: From /home/users/nlaabid/miniconda3/envs/scphere2/lib/python3.6/site-packages/tensorflow/python/ops/math_ops.py:2403: add_dispatch_support.<locals>.wrapper (from tensorflow.python.ops.array_ops) is deprecated and will be removed in a future version.\n",
      "Instructions for updating:\n",
      "Use tf.where in 2.0, which has the same broadcast rule as np.where\n"
     ]
    },
    {
     "name": "stdout",
     "output_type": "stream",
     "text": [
      "WARNING:tensorflow:From /home/users/nlaabid/miniconda3/envs/scphere2/lib/python3.6/site-packages/scPhere-0.1.0-py3.6.egg/scphere/ops/ive.py:23: py_func (from tensorflow.python.ops.script_ops) is deprecated and will be removed in a future version.\n",
      "Instructions for updating:\n",
      "tf.py_func is deprecated in TF V2. Instead, there are two\n",
      "    options available in V2.\n",
      "    - tf.py_function takes a python function which manipulates tf eager\n",
      "    tensors instead of numpy arrays. It's easy to convert a tf eager tensor to\n",
      "    an ndarray (just call tensor.numpy()) but having access to eager tensors\n",
      "    means `tf.py_function`s can use accelerators such as GPUs as well as\n",
      "    being differentiable using a gradient tape.\n",
      "    - tf.numpy_function maintains the semantics of the deprecated tf.py_func\n",
      "    (it is not differentiable, and manipulates numpy arrays). It drops the\n",
      "    stateful argument making all functions stateful.\n",
      "    \n"
     ]
    },
    {
     "name": "stderr",
     "output_type": "stream",
     "text": [
      "2022-02-20 18:50:06,155: WARNING: From /home/users/nlaabid/miniconda3/envs/scphere2/lib/python3.6/site-packages/scPhere-0.1.0-py3.6.egg/scphere/ops/ive.py:23: py_func (from tensorflow.python.ops.script_ops) is deprecated and will be removed in a future version.\n",
      "Instructions for updating:\n",
      "tf.py_func is deprecated in TF V2. Instead, there are two\n",
      "    options available in V2.\n",
      "    - tf.py_function takes a python function which manipulates tf eager\n",
      "    tensors instead of numpy arrays. It's easy to convert a tf eager tensor to\n",
      "    an ndarray (just call tensor.numpy()) but having access to eager tensors\n",
      "    means `tf.py_function`s can use accelerators such as GPUs as well as\n",
      "    being differentiable using a gradient tape.\n",
      "    - tf.numpy_function maintains the semantics of the deprecated tf.py_func\n",
      "    (it is not differentiable, and manipulates numpy arrays). It drops the\n",
      "    stateful argument making all functions stateful.\n",
      "    \n"
     ]
    }
   ],
   "source": [
    "model = SCPHERE(n_gene=x.shape[1], n_batch=0, batch_invariant=False,\n",
    "                z_dim=2, latent_dist='vmf',\n",
    "                observation_dist='nb', seed=0)"
   ]
  },
  {
   "cell_type": "code",
   "execution_count": 12,
   "metadata": {},
   "outputs": [
    {
     "name": "stdout",
     "output_type": "stream",
     "text": [
      "0 / 2000 {'Log-likelihood': -11892.158, 'ELBO': -11892.5205, 'KL': 0.3626647}\n",
      "50 / 2000 {'Log-likelihood': -5429.0933, 'ELBO': -5431.592, 'KL': 2.4985626}\n",
      "100 / 2000 {'Log-likelihood': -4594.876, 'ELBO': -4597.6997, 'KL': 2.8238692}\n",
      "150 / 2000 {'Log-likelihood': -4611.927, 'ELBO': -4614.86, 'KL': 2.9331455}\n",
      "200 / 2000 {'Log-likelihood': -4763.077, 'ELBO': -4766.0615, 'KL': 2.9845524}\n",
      "250 / 2000 {'Log-likelihood': -4516.6064, 'ELBO': -4519.6396, 'KL': 3.033255}\n",
      "300 / 2000 {'Log-likelihood': -4464.451, 'ELBO': -4467.482, 'KL': 3.0306876}\n",
      "350 / 2000 {'Log-likelihood': -4517.448, 'ELBO': -4520.8325, 'KL': 3.3841095}\n",
      "400 / 2000 {'Log-likelihood': -4374.689, 'ELBO': -4378.529, 'KL': 3.839879}\n",
      "450 / 2000 {'Log-likelihood': -4253.6973, 'ELBO': -4257.8516, 'KL': 4.1543827}\n",
      "500 / 2000 {'Log-likelihood': -4264.166, 'ELBO': -4268.4746, 'KL': 4.30843}\n",
      "550 / 2000 {'Log-likelihood': -4127.6963, 'ELBO': -4132.159, 'KL': 4.4628515}\n",
      "600 / 2000 {'Log-likelihood': -4110.7783, 'ELBO': -4115.346, 'KL': 4.567922}\n",
      "650 / 2000 {'Log-likelihood': -4041.771, 'ELBO': -4046.432, 'KL': 4.660923}\n",
      "700 / 2000 {'Log-likelihood': -4096.284, 'ELBO': -4100.9917, 'KL': 4.707346}\n",
      "750 / 2000 {'Log-likelihood': -4203.6924, 'ELBO': -4208.46, 'KL': 4.7676373}\n",
      "800 / 2000 {'Log-likelihood': -4001.2886, 'ELBO': -4006.1213, 'KL': 4.8327937}\n",
      "850 / 2000 {'Log-likelihood': -3977.8699, 'ELBO': -3982.7673, 'KL': 4.897528}\n",
      "900 / 2000 {'Log-likelihood': -4113.876, 'ELBO': -4118.853, 'KL': 4.9771347}\n",
      "950 / 2000 {'Log-likelihood': -3953.207, 'ELBO': -3958.2412, 'KL': 5.034087}\n",
      "1000 / 2000 {'Log-likelihood': -3964.6035, 'ELBO': -3969.685, 'KL': 5.0815}\n",
      "1050 / 2000 {'Log-likelihood': -3875.8228, 'ELBO': -3880.9426, 'KL': 5.119831}\n",
      "1100 / 2000 {'Log-likelihood': -3963.6494, 'ELBO': -3968.8098, 'KL': 5.1603327}\n",
      "1150 / 2000 {'Log-likelihood': -3971.9043, 'ELBO': -3977.0762, 'KL': 5.1717978}\n",
      "1200 / 2000 {'Log-likelihood': -4038.522, 'ELBO': -4043.7295, 'KL': 5.207429}\n",
      "1250 / 2000 {'Log-likelihood': -3890.1953, 'ELBO': -3895.4485, 'KL': 5.25319}\n",
      "1300 / 2000 {'Log-likelihood': -3942.1716, 'ELBO': -3947.4673, 'KL': 5.2956295}\n",
      "1350 / 2000 {'Log-likelihood': -3957.024, 'ELBO': -3962.3323, 'KL': 5.308378}\n",
      "1400 / 2000 {'Log-likelihood': -4060.5225, 'ELBO': -4065.8743, 'KL': 5.351866}\n",
      "1450 / 2000 {'Log-likelihood': -3902.3318, 'ELBO': -3907.7139, 'KL': 5.3820477}\n",
      "1500 / 2000 {'Log-likelihood': -3816.3958, 'ELBO': -3821.8093, 'KL': 5.413618}\n",
      "1550 / 2000 {'Log-likelihood': -4010.1606, 'ELBO': -4015.6018, 'KL': 5.441189}\n",
      "1600 / 2000 {'Log-likelihood': -3976.0947, 'ELBO': -3981.5571, 'KL': 5.4624825}\n",
      "1650 / 2000 {'Log-likelihood': -3858.3774, 'ELBO': -3863.8743, 'KL': 5.496882}\n",
      "1700 / 2000 {'Log-likelihood': -3872.239, 'ELBO': -3877.7449, 'KL': 5.505775}\n",
      "1750 / 2000 {'Log-likelihood': -4117.33, 'ELBO': -4122.885, 'KL': 5.5544605}\n",
      "1800 / 2000 {'Log-likelihood': -3767.755, 'ELBO': -3773.3423, 'KL': 5.587433}\n",
      "1850 / 2000 {'Log-likelihood': -3838.3022, 'ELBO': -3843.9023, 'KL': 5.600025}\n",
      "1900 / 2000 {'Log-likelihood': -3941.0073, 'ELBO': -3946.6326, 'KL': 5.6252813}\n",
      "1950 / 2000 {'Log-likelihood': -3893.65, 'ELBO': -3899.292, 'KL': 5.642053}\n"
     ]
    }
   ],
   "source": [
    "trainer = Trainer(model=model, x=x, batch_id=batch, max_epoch=250, mb_size=128, learning_rate=0.001)\n",
    "trainer.train()"
   ]
  },
  {
   "cell_type": "code",
   "execution_count": 13,
   "metadata": {},
   "outputs": [],
   "source": [
    "save_path = '../demo-out/'\n",
    "\n",
    "model_name = save_path + exp + 'cite_250epoch'\n",
    "model.save_sess(model_name)"
   ]
  },
  {
   "cell_type": "code",
   "execution_count": 14,
   "metadata": {},
   "outputs": [],
   "source": [
    "z_mean = model.encode(x, batch)\n",
    "np.savetxt(save_path + exp +\n",
    "           'cite_latent_250epoch.tsv',\n",
    "           z_mean)\n"
   ]
  },
  {
   "cell_type": "code",
   "execution_count": 15,
   "metadata": {},
   "outputs": [],
   "source": [
    "ll = model.get_log_likelihood(x, batch)\n",
    "np.savetxt(save_path + exp +\n",
    "           'cite_ll_250epoch.tsv',\n",
    "           z_mean)"
   ]
  },
  {
   "cell_type": "code",
   "execution_count": 16,
   "metadata": {},
   "outputs": [],
   "source": [
    "# why is one float and one int?\n",
    "# read study for data collection of scphere data"
   ]
  }
 ],
 "metadata": {
  "interpreter": {
   "hash": "957d95be36550bb98cea9e083ad073b1b4e114a95d698b70973810f7550d7bdd"
  },
  "kernelspec": {
   "display_name": "Python 3.6.13 64-bit ('scphere': conda)",
   "language": "python",
   "name": "python3"
  },
  "language_info": {
   "codemirror_mode": {
    "name": "ipython",
    "version": 3
   },
   "file_extension": ".py",
   "mimetype": "text/x-python",
   "name": "python",
   "nbconvert_exporter": "python",
   "pygments_lexer": "ipython3",
   "version": "3.6.13"
  },
  "orig_nbformat": 4
 },
 "nbformat": 4,
 "nbformat_minor": 2
}
