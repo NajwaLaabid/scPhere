{
 "cells": [
  {
   "cell_type": "code",
   "execution_count": 1,
   "metadata": {},
   "outputs": [],
   "source": [
    "%load_ext autoreload"
   ]
  },
  {
   "cell_type": "code",
   "execution_count": 2,
   "metadata": {},
   "outputs": [],
   "source": [
    "%autoreload 2"
   ]
  },
  {
   "cell_type": "code",
   "execution_count": null,
   "metadata": {},
   "outputs": [],
   "source": [
    "import anndata as ad\n",
    "import numpy as np\n",
    "from scphere.model.vae import SCPHERE\n",
    "from scphere.util.trainer import Trainer"
   ]
  },
  {
   "cell_type": "code",
   "execution_count": 4,
   "metadata": {},
   "outputs": [
    {
     "name": "stderr",
     "output_type": "stream",
     "text": [
      "Variable names are not unique. To make them unique, call `.var_names_make_unique`.\n"
     ]
    },
    {
     "data": {
      "text/plain": [
       "AnnData object with n_obs × n_vars = 90261 × 14087\n",
       "    obs: 'GEX_n_genes_by_counts', 'GEX_pct_counts_mt', 'GEX_size_factors', 'GEX_phase', 'ADT_n_antibodies_by_counts', 'ADT_total_counts', 'ADT_iso_count', 'cell_type', 'batch', 'ADT_pseudotime_order', 'GEX_pseudotime_order', 'Samplename', 'Site', 'DonorNumber', 'Modality', 'VendorLot', 'DonorID', 'DonorAge', 'DonorBMI', 'DonorBloodType', 'DonorRace', 'Ethnicity', 'DonorGender', 'QCMeds', 'DonorSmoker', 'is_train'\n",
       "    var: 'feature_types', 'gene_id'\n",
       "    uns: 'dataset_id', 'genome', 'organism'\n",
       "    obsm: 'ADT_X_pca', 'ADT_X_umap', 'ADT_isotype_controls', 'GEX_X_pca', 'GEX_X_umap'\n",
       "    layers: 'counts'"
      ]
     },
     "execution_count": 4,
     "metadata": {},
     "output_type": "execute_result"
    }
   ],
   "source": [
    "neurips_data = '/home/users/nlaabid/neurips-data/full_data/cite.h5ad'\n",
    "input_train_mod1 = ad.read_h5ad(neurips_data)\n",
    "input_train_mod1.var_names_make_unique()\n",
    "input_train_mod1"
   ]
  },
  {
   "cell_type": "code",
   "execution_count": 5,
   "metadata": {},
   "outputs": [
    {
     "data": {
      "text/plain": [
       "View of AnnData object with n_obs × n_vars = 734 × 14087\n",
       "    obs: 'GEX_n_genes_by_counts', 'GEX_pct_counts_mt', 'GEX_size_factors', 'GEX_phase', 'ADT_n_antibodies_by_counts', 'ADT_total_counts', 'ADT_iso_count', 'cell_type', 'batch', 'ADT_pseudotime_order', 'GEX_pseudotime_order', 'Samplename', 'Site', 'DonorNumber', 'Modality', 'VendorLot', 'DonorID', 'DonorAge', 'DonorBMI', 'DonorBloodType', 'DonorRace', 'Ethnicity', 'DonorGender', 'QCMeds', 'DonorSmoker', 'is_train'\n",
       "    var: 'feature_types', 'gene_id'\n",
       "    uns: 'dataset_id', 'genome', 'organism'\n",
       "    obsm: 'ADT_X_pca', 'ADT_X_umap', 'ADT_isotype_controls', 'GEX_X_pca', 'GEX_X_umap'\n",
       "    layers: 'counts'"
      ]
     },
     "execution_count": 5,
     "metadata": {},
     "output_type": "execute_result"
    }
   ],
   "source": [
    "b = 's1d1'\n",
    "c = 'CD14+ Mono'\n",
    "data = input_train_mod1[(input_train_mod1.obs['batch']==b)&(input_train_mod1.obs['cell_type']==c)]\n",
    "\n",
    "data"
   ]
  },
  {
   "cell_type": "code",
   "execution_count": 15,
   "metadata": {},
   "outputs": [],
   "source": [
    "cell_types = data.obs['cell_type'].to_numpy()\n",
    "np.savetxt('../demo-out/' +\n",
    "           'cite_cell_types.tsv',\n",
    "           cell_types, fmt='%s')\n"
   ]
  },
  {
   "cell_type": "code",
   "execution_count": 7,
   "metadata": {},
   "outputs": [],
   "source": [
    "x = data.X.toarray().astype(dtype='int')"
   ]
  },
  {
   "cell_type": "code",
   "execution_count": 8,
   "metadata": {},
   "outputs": [],
   "source": [
    "batch = np.zeros(x.shape[0]) * -1"
   ]
  },
  {
   "cell_type": "code",
   "execution_count": 9,
   "metadata": {},
   "outputs": [
    {
     "name": "stdout",
     "output_type": "stream",
     "text": [
      "WARNING:tensorflow:\n",
      "The TensorFlow contrib module will not be included in TensorFlow 2.0.\n",
      "For more information, please see:\n",
      "  * https://github.com/tensorflow/community/blob/master/rfcs/20180907-contrib-sunset.md\n",
      "  * https://github.com/tensorflow/addons\n",
      "  * https://github.com/tensorflow/io (for I/O related ops)\n",
      "If you depend on functionality not listed there, please file an issue.\n",
      "\n"
     ]
    },
    {
     "name": "stderr",
     "output_type": "stream",
     "text": [
      "2022-02-16 14:20:52,126: WARNING: \n",
      "The TensorFlow contrib module will not be included in TensorFlow 2.0.\n",
      "For more information, please see:\n",
      "  * https://github.com/tensorflow/community/blob/master/rfcs/20180907-contrib-sunset.md\n",
      "  * https://github.com/tensorflow/addons\n",
      "  * https://github.com/tensorflow/io (for I/O related ops)\n",
      "If you depend on functionality not listed there, please file an issue.\n",
      "\n"
     ]
    },
    {
     "name": "stdout",
     "output_type": "stream",
     "text": [
      "WARNING:tensorflow:From /home/users/nlaabid/miniconda3/envs/scphere2/lib/python3.6/site-packages/tensorflow/python/ops/init_ops.py:1251: calling VarianceScaling.__init__ (from tensorflow.python.ops.init_ops) with dtype is deprecated and will be removed in a future version.\n",
      "Instructions for updating:\n",
      "Call initializer instance with the dtype argument instead of passing it to the constructor\n"
     ]
    },
    {
     "name": "stderr",
     "output_type": "stream",
     "text": [
      "2022-02-16 14:20:52,137: WARNING: From /home/users/nlaabid/miniconda3/envs/scphere2/lib/python3.6/site-packages/tensorflow/python/ops/init_ops.py:1251: calling VarianceScaling.__init__ (from tensorflow.python.ops.init_ops) with dtype is deprecated and will be removed in a future version.\n",
      "Instructions for updating:\n",
      "Call initializer instance with the dtype argument instead of passing it to the constructor\n"
     ]
    },
    {
     "name": "stdout",
     "output_type": "stream",
     "text": [
      "WARNING:tensorflow:From /home/users/nlaabid/miniconda3/envs/scphere2/lib/python3.6/site-packages/tensorflow/python/ops/math_ops.py:2403: add_dispatch_support.<locals>.wrapper (from tensorflow.python.ops.array_ops) is deprecated and will be removed in a future version.\n",
      "Instructions for updating:\n",
      "Use tf.where in 2.0, which has the same broadcast rule as np.where\n"
     ]
    },
    {
     "name": "stderr",
     "output_type": "stream",
     "text": [
      "2022-02-16 14:20:52,388: WARNING: From /home/users/nlaabid/miniconda3/envs/scphere2/lib/python3.6/site-packages/tensorflow/python/ops/math_ops.py:2403: add_dispatch_support.<locals>.wrapper (from tensorflow.python.ops.array_ops) is deprecated and will be removed in a future version.\n",
      "Instructions for updating:\n",
      "Use tf.where in 2.0, which has the same broadcast rule as np.where\n"
     ]
    },
    {
     "name": "stdout",
     "output_type": "stream",
     "text": [
      "WARNING:tensorflow:From /home/users/nlaabid/miniconda3/envs/scphere2/lib/python3.6/site-packages/scPhere-0.1.0-py3.6.egg/scphere/ops/ive.py:23: py_func (from tensorflow.python.ops.script_ops) is deprecated and will be removed in a future version.\n",
      "Instructions for updating:\n",
      "tf.py_func is deprecated in TF V2. Instead, there are two\n",
      "    options available in V2.\n",
      "    - tf.py_function takes a python function which manipulates tf eager\n",
      "    tensors instead of numpy arrays. It's easy to convert a tf eager tensor to\n",
      "    an ndarray (just call tensor.numpy()) but having access to eager tensors\n",
      "    means `tf.py_function`s can use accelerators such as GPUs as well as\n",
      "    being differentiable using a gradient tape.\n",
      "    - tf.numpy_function maintains the semantics of the deprecated tf.py_func\n",
      "    (it is not differentiable, and manipulates numpy arrays). It drops the\n",
      "    stateful argument making all functions stateful.\n",
      "    \n"
     ]
    },
    {
     "name": "stderr",
     "output_type": "stream",
     "text": [
      "2022-02-16 14:20:52,961: WARNING: From /home/users/nlaabid/miniconda3/envs/scphere2/lib/python3.6/site-packages/scPhere-0.1.0-py3.6.egg/scphere/ops/ive.py:23: py_func (from tensorflow.python.ops.script_ops) is deprecated and will be removed in a future version.\n",
      "Instructions for updating:\n",
      "tf.py_func is deprecated in TF V2. Instead, there are two\n",
      "    options available in V2.\n",
      "    - tf.py_function takes a python function which manipulates tf eager\n",
      "    tensors instead of numpy arrays. It's easy to convert a tf eager tensor to\n",
      "    an ndarray (just call tensor.numpy()) but having access to eager tensors\n",
      "    means `tf.py_function`s can use accelerators such as GPUs as well as\n",
      "    being differentiable using a gradient tape.\n",
      "    - tf.numpy_function maintains the semantics of the deprecated tf.py_func\n",
      "    (it is not differentiable, and manipulates numpy arrays). It drops the\n",
      "    stateful argument making all functions stateful.\n",
      "    \n"
     ]
    }
   ],
   "source": [
    "model = SCPHERE(n_gene=x.shape[1], n_batch=0, batch_invariant=False,\n",
    "                z_dim=2, latent_dist='vmf',\n",
    "                observation_dist='nb', seed=0)"
   ]
  },
  {
   "cell_type": "code",
   "execution_count": 10,
   "metadata": {},
   "outputs": [
    {
     "name": "stdout",
     "output_type": "stream",
     "text": [
      "0 / 1250 {'Log-likelihood': -9330.316, 'ELBO': -9330.698, 'KL': 0.38189286}\n",
      "50 / 1250 {'Log-likelihood': -4518.4614, 'ELBO': -4521.153, 'KL': 2.6913257}\n",
      "100 / 1250 {'Log-likelihood': -4117.3516, 'ELBO': -4120.301, 'KL': 2.949439}\n",
      "150 / 1250 {'Log-likelihood': -3962.4688, 'ELBO': -3965.5227, 'KL': 3.0538597}\n",
      "200 / 1250 {'Log-likelihood': -3948.3228, 'ELBO': -3951.4456, 'KL': 3.1228843}\n",
      "250 / 1250 {'Log-likelihood': -4018.1885, 'ELBO': -4021.3674, 'KL': 3.1789541}\n",
      "300 / 1250 {'Log-likelihood': -3881.0269, 'ELBO': -3884.254, 'KL': 3.226932}\n",
      "350 / 1250 {'Log-likelihood': -3768.8242, 'ELBO': -3772.0884, 'KL': 3.2641625}\n",
      "400 / 1250 {'Log-likelihood': -4003.8086, 'ELBO': -4007.099, 'KL': 3.2904208}\n",
      "450 / 1250 {'Log-likelihood': -4037.9456, 'ELBO': -4041.2522, 'KL': 3.3065515}\n",
      "500 / 1250 {'Log-likelihood': -3959.6982, 'ELBO': -3963.003, 'KL': 3.3047402}\n",
      "550 / 1250 {'Log-likelihood': -3993.7632, 'ELBO': -3996.971, 'KL': 3.2078152}\n",
      "600 / 1250 {'Log-likelihood': -3764.27, 'ELBO': -3767.9707, 'KL': 3.7007194}\n",
      "650 / 1250 {'Log-likelihood': -3731.2065, 'ELBO': -3735.2258, 'KL': 4.019198}\n",
      "700 / 1250 {'Log-likelihood': -3838.186, 'ELBO': -3842.3928, 'KL': 4.206908}\n",
      "750 / 1250 {'Log-likelihood': -3887.7324, 'ELBO': -3892.138, 'KL': 4.4055643}\n",
      "800 / 1250 {'Log-likelihood': -3781.4438, 'ELBO': -3786.0115, 'KL': 4.5677223}\n",
      "850 / 1250 {'Log-likelihood': -3750.992, 'ELBO': -3755.6838, 'KL': 4.6918583}\n",
      "900 / 1250 {'Log-likelihood': -3657.0005, 'ELBO': -3661.7937, 'KL': 4.793158}\n",
      "950 / 1250 {'Log-likelihood': -3880.2046, 'ELBO': -3885.0764, 'KL': 4.871892}\n",
      "1000 / 1250 {'Log-likelihood': -3759.601, 'ELBO': -3764.5505, 'KL': 4.9493675}\n",
      "1050 / 1250 {'Log-likelihood': -3857.5889, 'ELBO': -3862.607, 'KL': 5.0180087}\n",
      "1100 / 1250 {'Log-likelihood': -3908.834, 'ELBO': -3913.9143, 'KL': 5.080412}\n",
      "1150 / 1250 {'Log-likelihood': -3920.0955, 'ELBO': -3925.2266, 'KL': 5.131087}\n",
      "1200 / 1250 {'Log-likelihood': -3830.313, 'ELBO': -3835.4902, 'KL': 5.1772084}\n"
     ]
    }
   ],
   "source": [
    "trainer = Trainer(model=model, x=x, batch_id=batch, max_epoch=250, mb_size=128, learning_rate=0.001)\n",
    "trainer.train()"
   ]
  },
  {
   "cell_type": "code",
   "execution_count": 11,
   "metadata": {},
   "outputs": [],
   "source": [
    "save_path = '../demo-out/'\n",
    "\n",
    "model_name = save_path + 'cite_250epoch'\n",
    "model.save_sess(model_name)"
   ]
  },
  {
   "cell_type": "code",
   "execution_count": 12,
   "metadata": {},
   "outputs": [],
   "source": [
    "z_mean = model.encode(x, batch)\n",
    "np.savetxt(save_path +\n",
    "           'cite_latent_250epoch.tsv',\n",
    "           z_mean)\n"
   ]
  },
  {
   "cell_type": "code",
   "execution_count": 13,
   "metadata": {},
   "outputs": [],
   "source": [
    "ll = model.get_log_likelihood(x, batch)\n",
    "np.savetxt(save_path +\n",
    "           'cite_ll_250epoch.tsv',\n",
    "           z_mean)"
   ]
  },
  {
   "cell_type": "code",
   "execution_count": 14,
   "metadata": {},
   "outputs": [],
   "source": [
    "# why is one float and one int?\n",
    "# read study for data collection of scphere data"
   ]
  }
 ],
 "metadata": {
  "interpreter": {
   "hash": "957d95be36550bb98cea9e083ad073b1b4e114a95d698b70973810f7550d7bdd"
  },
  "kernelspec": {
   "display_name": "Python 3.6.13 64-bit ('scphere': conda)",
   "language": "python",
   "name": "python3"
  },
  "language_info": {
   "codemirror_mode": {
    "name": "ipython",
    "version": 3
   },
   "file_extension": ".py",
   "mimetype": "text/x-python",
   "name": "python",
   "nbconvert_exporter": "python",
   "pygments_lexer": "ipython3",
   "version": "3.6.13"
  },
  "orig_nbformat": 4
 },
 "nbformat": 4,
 "nbformat_minor": 2
}
